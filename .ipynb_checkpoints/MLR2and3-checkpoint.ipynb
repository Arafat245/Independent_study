{
 "cells": [
  {
   "cell_type": "code",
   "execution_count": 1,
   "id": "2b25ed46-cbe7-4f96-b519-bef532a83acd",
   "metadata": {},
   "outputs": [],
   "source": [
    "import pandas as pd\n",
    "import matplotlib.pyplot as plt\n",
    "import seaborn as sns\n",
    "from sklearn.decomposition import PCA\n",
    "from sklearn.linear_model import LinearRegression\n",
    "import numpy as np\n",
    "\n",
    "import warnings\n",
    "warnings.filterwarnings(\"ignore\")"
   ]
  },
  {
   "cell_type": "code",
   "execution_count": 2,
   "id": "bc113f04-c3c8-47f6-b03b-7cf656b80dc5",
   "metadata": {},
   "outputs": [
    {
     "ename": "ModuleNotFoundError",
     "evalue": "No module named 'AccidentInput'",
     "output_type": "error",
     "traceback": [
      "\u001b[1;31m---------------------------------------------------------------------------\u001b[0m",
      "\u001b[1;31mModuleNotFoundError\u001b[0m                       Traceback (most recent call last)",
      "Cell \u001b[1;32mIn[2], line 2\u001b[0m\n\u001b[0;32m      1\u001b[0m \u001b[38;5;28;01mimport\u001b[39;00m \u001b[38;5;21;01mos\u001b[39;00m\n\u001b[1;32m----> 2\u001b[0m \u001b[38;5;28;01mfrom\u001b[39;00m \u001b[38;5;21;01mAccidentInput\u001b[39;00m \u001b[38;5;28;01mimport\u001b[39;00m file_inputl, combine_data\n\u001b[0;32m      4\u001b[0m \u001b[38;5;66;03m# Define directories\u001b[39;00m\n\u001b[0;32m      5\u001b[0m traindir \u001b[38;5;241m=\u001b[39m \u001b[38;5;124m\"\u001b[39m\u001b[38;5;124mC:/Users/jgh6ds/Desktop/Independent/Sessions 2-5 Data and Visualization/TrainData\u001b[39m\u001b[38;5;124m\"\u001b[39m\n",
      "\u001b[1;31mModuleNotFoundError\u001b[0m: No module named 'AccidentInput'"
     ]
    }
   ],
   "source": [
    "import os\n",
    "from AccidentInput import file_inputl, combine_data\n",
    "\n",
    "# Define directories\n",
    "traindir = \"C:/Users/jgh6ds/Desktop/Independent/Sessions 2-5 Data and Visualization/TrainData\"\n",
    "sourcedir = \"C:/Users/jgh6ds/Desktop/Independent/Session 9-12 Multiple Linear Regression\"\n",
    "\n",
    "acts = file_inputl(traindir)\n",
    "comvar = set(acts[0].columns).intersection(set(acts[7].columns))\n",
    "totacts = combine_data(acts, list(comvar))\n",
    "\n",
    "# Get dimensions of the combined dataframe\n",
    "print(totacts.shape)"
   ]
  },
  {
   "cell_type": "code",
   "execution_count": null,
   "id": "6ff2c776-2ca0-482d-a3f2-05430af1b1ef",
   "metadata": {},
   "outputs": [],
   "source": []
  }
 ],
 "metadata": {
  "kernelspec": {
   "display_name": "Python 3 (ipykernel)",
   "language": "python",
   "name": "python3"
  },
  "language_info": {
   "codemirror_mode": {
    "name": "ipython",
    "version": 3
   },
   "file_extension": ".py",
   "mimetype": "text/x-python",
   "name": "python",
   "nbconvert_exporter": "python",
   "pygments_lexer": "ipython3",
   "version": "3.11.9"
  }
 },
 "nbformat": 4,
 "nbformat_minor": 5
}
