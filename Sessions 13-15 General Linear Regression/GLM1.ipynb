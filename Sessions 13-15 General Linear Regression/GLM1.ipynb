{
 "cells": [
  {
   "cell_type": "code",
   "execution_count": null,
   "id": "a146b2dd-cb53-4cc8-a10e-c1a345e25196",
   "metadata": {},
   "outputs": [],
   "source": [
    "import pandas as pd\n",
    "\n",
    "datadir = \"E:/GoogleDrive/SYS4021/2021/GLM/Data\"\n",
    "spam = pd.read_csv(f\"{datadir}/Spam.txt\", sep=\" \", header=None)"
   ]
  },
  {
   "cell_type": "code",
   "execution_count": null,
   "id": "78aed696-85a6-494b-9cf2-8a607b193300",
   "metadata": {},
   "outputs": [],
   "source": [
    "print(spam.shape)\n",
    "print(spam.describe())"
   ]
  },
  {
   "cell_type": "code",
   "execution_count": null,
   "id": "b37c3e53-e88e-4d29-82e4-0ec5f6daa520",
   "metadata": {},
   "outputs": [],
   "source": [
    "response_variable = spam.iloc[:, 57]\n",
    "print(response_variable.value_counts())\n",
    "print(response_variable.sum() / len(response_variable))"
   ]
  },
  {
   "cell_type": "code",
   "execution_count": null,
   "id": "15d1e9d9-9c49-4f20-ad61-e060487941b8",
   "metadata": {},
   "outputs": [],
   "source": [
    "import os\n",
    "import seaborn as sns\n",
    "import matplotlib.pyplot as plt\n",
    "from pandas.plotting import scatter_matrix\n",
    "import numpy as np\n",
    "\n",
    "figures_dir = os.path.join(datadir, \"figures\")\n",
    "os.makedirs(figures_dir, exist_ok=True)\n",
    "\n",
    "plt.figure(figsize=(20, 10))\n",
    "scatter_matrix(spam.iloc[:, np.r_[0:10, 57]], figsize=(20, 10), diagonal='kde')\n",
    "plt.savefig(os.path.join(figures_dir, 'Image1.png'))\n",
    "plt.close()\n",
    "\n",
    "log_spam = np.log(spam.iloc[:, np.r_[0:10, 57]] + 0.00001)\n",
    "plt.figure(figsize=(20, 10))\n",
    "scatter_matrix(log_spam, figsize=(20, 10), diagonal='kde')\n",
    "plt.savefig(os.path.join(figures_dir, 'Image2.png'))\n",
    "plt.close()\n"
   ]
  },
  {
   "cell_type": "code",
   "execution_count": null,
   "id": "6f4cdb65-f5ae-4521-b0c4-092356c184dc",
   "metadata": {},
   "outputs": [],
   "source": [
    "import seaborn as sns\n",
    "import matplotlib.pyplot as plt\n",
    "\n",
    "for i in range(1, 10):\n",
    "    plt.figure()\n",
    "    sns.boxplot(x=spam.iloc[:, 57], y=spam.iloc[:, i-1])\n",
    "    plt.title(f'V{i}')\n",
    "    plt.savefig(os.path.join(figures_dir, f'V{i}.png'))\n",
    "    plt.close()\n",
    "\n",
    "# Combining plots into a grid\n",
    "fig, axs = plt.subplots(3, 3, figsize=(15, 15))\n",
    "for i, ax in zip(range(1, 10), axs.flatten()):\n",
    "    sns.boxplot(x=spam.iloc[:, 57], y=spam.iloc[:, i-1], ax=ax)\n",
    "    ax.set_title(f'V{i}')\n",
    "plt.tight_layout()\n",
    "plt.savefig(os.path.join(figures_dir, 'Boxplots_V1_to_V9.png'))\n",
    "plt.close()\n"
   ]
  },
  {
   "cell_type": "code",
   "execution_count": null,
   "id": "526bad09-9338-40d5-936e-c7960bb37223",
   "metadata": {},
   "outputs": [],
   "source": [
    "for i in range(49, 58):\n",
    "    plt.figure()\n",
    "    sns.boxplot(x=spam.iloc[:, 57], y=spam.iloc[:, i-1])\n",
    "    plt.title(f'V{i}')\n",
    "    plt.savefig(os.path.join(figures_dir, f'V{i}.png'))\n",
    "    plt.close()\n",
    "\n",
    "# Combining plots into a grid\n",
    "fig, axs = plt.subplots(3, 3, figsize=(15, 15))\n",
    "for i, ax in zip(range(49, 58), axs.flatten()):\n",
    "    sns.boxplot(x=spam.iloc[:, 57], y=spam.iloc[:, i-1], ax=ax)\n",
    "    ax.set_title(f'V{i}')\n",
    "plt.tight_layout()\n",
    "plt.savefig(os.path.join(figures_dir, 'Boxplots_V49_to_V57.png'))\n",
    "plt.close()\n"
   ]
  },
  {
   "cell_type": "code",
   "execution_count": null,
   "id": "df095022-7e3f-48ff-bb12-7e850074f020",
   "metadata": {},
   "outputs": [],
   "source": [
    "Lspam = np.log(spam.iloc[:, :-1] + 0.1)\n",
    "Lspam[57] = spam.iloc[:, 57]\n"
   ]
  },
  {
   "cell_type": "code",
   "execution_count": null,
   "id": "09622239-c759-4db1-a682-016e15b4ee34",
   "metadata": {},
   "outputs": [],
   "source": [
    "plt.figure(figsize=(20, 10))\n",
    "for i in range(1, 10):\n",
    "    plt.figure()\n",
    "    sns.boxplot(x=Lspam[57], y=Lspam[i-1])\n",
    "    plt.title(f'V{i}')\n",
    "    plt.savefig(os.path.join(figures_dir, f'Log_V{i}.png'))\n",
    "    plt.close()\n",
    "\n",
    "fig, axs = plt.subplots(3, 3, figsize=(15, 15))\n",
    "for i, ax in zip(range(1, 10), axs.flatten()):\n",
    "    sns.boxplot(x=Lspam[57], y=Lspam[i-1], ax=ax)\n",
    "    ax.set_title(f'Log V{i}')\n",
    "plt.tight_layout()\n",
    "plt.savefig(os.path.join(figures_dir, 'Boxplots_Log_V1_to_V9.png'))\n",
    "plt.close()\n"
   ]
  },
  {
   "cell_type": "code",
   "execution_count": null,
   "id": "9dacb022-fbb1-4beb-9d20-75fe8d0c4f66",
   "metadata": {},
   "outputs": [],
   "source": [
    "plt.figure(figsize=(20, 10))\n",
    "for i in range(49, 58):\n",
    "    plt.figure()\n",
    "    sns.boxplot(x=Lspam[57], y=Lspam[i-1])\n",
    "    plt.title(f'Log V{i}')\n",
    "    plt.savefig(os.path.join(figures_dir, f'Log_V{i}.png'))\n",
    "    plt.close()\n",
    "\n",
    "fig, axs = plt.subplots(3, 3, figsize=(15, 15))\n",
    "for i, ax in zip(range(49, 58), axs.flatten()):\n",
    "    sns.boxplot(x=Lspam[57], y=Lspam[i-1], ax=ax)\n",
    "    ax.set_title(f'Log V{i}')\n",
    "plt.tight_layout()\n",
    "plt.savefig(os.path.join(figures_dir, 'Boxplots_Log_V49_to_V57.png'))\n",
    "plt.close()\n"
   ]
  },
  {
   "cell_type": "code",
   "execution_count": null,
   "id": "47431dfc-1796-457f-9647-6b6805598839",
   "metadata": {},
   "outputs": [],
   "source": [
    "from sklearn.decomposition import PCA\n",
    "import matplotlib.pyplot as plt\n",
    "\n",
    "spam_pca = PCA(n_components=2)\n",
    "principal_components = spam_pca.fit_transform(spam.iloc[:, :-1])\n",
    "\n",
    "plt.figure(figsize=(10, 7))\n",
    "plt.scatter(principal_components[:, 0], principal_components[:, 1], c=spam.iloc[:, -1])\n",
    "plt.title('PCA of Spam Dataset')\n",
    "plt.xlabel('Principal Component 1')\n",
    "plt.ylabel('Principal Component 2')\n",
    "plt.colorbar()\n",
    "plt.show()\n"
   ]
  },
  {
   "cell_type": "code",
   "execution_count": null,
   "id": "380bd744-7640-4759-b835-01561cf76905",
   "metadata": {},
   "outputs": [],
   "source": [
    "loadings = spam_pca.components_[1]\n",
    "outliers = np.where(np.abs(loadings) > 0.2)[0]\n",
    "print(spam.iloc[:, outliers].describe())\n",
    "\n",
    "plt.figure()\n",
    "plt.boxplot(spam.iloc[:, 55])\n",
    "plt.title('Boxplot of V56')\n",
    "plt.show()\n",
    "\n",
    "# Remove outlier\n",
    "spam_no_outlier = spam.drop(1754)\n",
    "\n",
    "spam_pca_no_outlier = PCA(n_components=2)\n",
    "principal_components_no_outlier = spam_pca_no_outlier.fit_transform(spam_no_outlier.iloc[:, :-1])\n",
    "\n",
    "plt.figure(figsize=(10, 7))\n",
    "plt.scatter(principal_components_no_outlier[:, 0], principal_components_no_outlier[:, 1], c=spam_no_outlier.iloc[:, -1])\n",
    "plt.title('PCA of Spam Dataset (Outlier Removed)')\n",
    "plt.xlabel('Principal Component 1')\n",
    "plt.ylabel('Principal Component 2')\n",
    "plt.colorbar()\n",
    "plt.show()\n"
   ]
  },
  {
   "cell_type": "code",
   "execution_count": null,
   "id": "7163f59f-2c98-40fd-b32c-b2436749598a",
   "metadata": {},
   "outputs": [],
   "source": [
    "import seaborn as sns\n",
    "\n",
    "plt.figure(figsize=(10, 7))\n",
    "sns.scatterplot(x=principal_components_no_outlier[:, 0], y=principal_components_no_outlier[:, 1], hue=spam_no_outlier.iloc[:, -1], palette={0: 'blue', 1: 'red'}, style=spam_no_outlier.iloc[:, -1])\n",
    "plt.title('PCA of Spam Dataset (Outlier Removed) with Labels')\n",
    "plt.xlabel('Principal Component 1')\n",
    "plt.ylabel('Principal Component 2')\n",
    "plt.legend(title='Type', labels=['Ham', 'Spam'])\n",
    "plt.show()\n"
   ]
  },
  {
   "cell_type": "code",
   "execution_count": null,
   "id": "84066b8c-a994-40f2-9d0f-9962d0ea88d7",
   "metadata": {},
   "outputs": [],
   "source": [
    "Lspam_pca = PCA(n_components=2)\n",
    "principal_components_Lspam = Lspam_pca.fit_transform(Lspam.iloc[:, :-1])\n",
    "\n",
    "plt.figure(figsize=(10, 7))\n",
    "plt.scatter(principal_components_Lspam[:, 0], principal_components_Lspam[:, 1], c=Lspam.iloc[:, -1])\n",
    "plt.title('PCA of Log-Transformed Spam Dataset')\n",
    "plt.xlabel('Principal Component 1')\n",
    "plt.ylabel('Principal Component 2')\n",
    "plt.colorbar()\n",
    "plt.show()\n"
   ]
  },
  {
   "cell_type": "code",
   "execution_count": null,
   "id": "6227ef33-180c-4f24-bdb9-9c45163d9cf4",
   "metadata": {},
   "outputs": [],
   "source": [
    "plt.figure(figsize=(10, 7))\n",
    "sns.scatterplot(x=principal_components_Lspam[:, 0], y=principal_components_Lspam[:, 1], hue=Lspam.iloc[:, -1], palette={0: 'blue', 1: 'red'}, style=Lspam.iloc[:, -1])\n",
    "plt.title('PCA of Log-Transformed Spam Dataset with Labels')\n",
    "plt.xlabel('Principal Component 1')\n",
    "plt.ylabel('Principal Component 2')\n",
    "plt.legend(title='Type', labels=['Ham', 'Spam'])\n",
    "plt.show()\n"
   ]
  }
 ],
 "metadata": {
  "kernelspec": {
   "display_name": "Python 3 (ipykernel)",
   "language": "python",
   "name": "python3"
  },
  "language_info": {
   "codemirror_mode": {
    "name": "ipython",
    "version": 3
   },
   "file_extension": ".py",
   "mimetype": "text/x-python",
   "name": "python",
   "nbconvert_exporter": "python",
   "pygments_lexer": "ipython3",
   "version": "3.11.9"
  }
 },
 "nbformat": 4,
 "nbformat_minor": 5
}
